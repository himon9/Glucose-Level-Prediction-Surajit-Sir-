{
 "cells": [
  {
   "cell_type": "code",
   "execution_count": 1,
   "id": "99214ee1",
   "metadata": {},
   "outputs": [],
   "source": [
    "import numpy as np\n",
    "import pandas as pd\n",
    "import matplotlib.pyplot as plt\n",
    "import seaborn as sns\n",
    "from sklearn.model_selection import train_test_split\n",
    "from sklearn.ensemble import RandomForestRegressor\n",
    "from sklearn import metrics"
   ]
  },
  {
   "cell_type": "code",
   "execution_count": 4,
   "id": "11192ed8",
   "metadata": {},
   "outputs": [],
   "source": [
    "#Loading the csv data to a Pandas Dataframe\n",
    "df =pd.read_excel('./Training_Data.xlsx')"
   ]
  },
  {
   "cell_type": "code",
   "execution_count": 5,
   "id": "50e4715b",
   "metadata": {},
   "outputs": [
    {
     "data": {
      "text/html": [
       "<div>\n",
       "<style scoped>\n",
       "    .dataframe tbody tr th:only-of-type {\n",
       "        vertical-align: middle;\n",
       "    }\n",
       "\n",
       "    .dataframe tbody tr th {\n",
       "        vertical-align: top;\n",
       "    }\n",
       "\n",
       "    .dataframe thead th {\n",
       "        text-align: right;\n",
       "    }\n",
       "</style>\n",
       "<table border=\"1\" class=\"dataframe\">\n",
       "  <thead>\n",
       "    <tr style=\"text-align: right;\">\n",
       "      <th></th>\n",
       "      <th>Time (sec.)</th>\n",
       "      <th>Glucose Level</th>\n",
       "    </tr>\n",
       "  </thead>\n",
       "  <tbody>\n",
       "    <tr>\n",
       "      <th>0</th>\n",
       "      <td>12.0</td>\n",
       "      <td>170</td>\n",
       "    </tr>\n",
       "    <tr>\n",
       "      <th>1</th>\n",
       "      <td>13.0</td>\n",
       "      <td>165</td>\n",
       "    </tr>\n",
       "    <tr>\n",
       "      <th>2</th>\n",
       "      <td>12.0</td>\n",
       "      <td>168</td>\n",
       "    </tr>\n",
       "    <tr>\n",
       "      <th>3</th>\n",
       "      <td>11.0</td>\n",
       "      <td>180</td>\n",
       "    </tr>\n",
       "    <tr>\n",
       "      <th>4</th>\n",
       "      <td>14.0</td>\n",
       "      <td>160</td>\n",
       "    </tr>\n",
       "  </tbody>\n",
       "</table>\n",
       "</div>"
      ],
      "text/plain": [
       "   Time (sec.)  Glucose Level\n",
       "0         12.0            170\n",
       "1         13.0            165\n",
       "2         12.0            168\n",
       "3         11.0            180\n",
       "4         14.0            160"
      ]
     },
     "execution_count": 5,
     "metadata": {},
     "output_type": "execute_result"
    }
   ],
   "source": [
    "#print first 5 rows in the dataframe\n",
    "df.head()"
   ]
  },
  {
   "cell_type": "code",
   "execution_count": 6,
   "id": "86b28f73",
   "metadata": {},
   "outputs": [
    {
     "data": {
      "text/plain": [
       "(117, 2)"
      ]
     },
     "execution_count": 6,
     "metadata": {},
     "output_type": "execute_result"
    }
   ],
   "source": [
    "#number of rows and columns\n",
    "df.shape"
   ]
  },
  {
   "cell_type": "code",
   "execution_count": 7,
   "id": "e84d8de1",
   "metadata": {},
   "outputs": [
    {
     "data": {
      "text/html": [
       "<div>\n",
       "<style scoped>\n",
       "    .dataframe tbody tr th:only-of-type {\n",
       "        vertical-align: middle;\n",
       "    }\n",
       "\n",
       "    .dataframe tbody tr th {\n",
       "        vertical-align: top;\n",
       "    }\n",
       "\n",
       "    .dataframe thead th {\n",
       "        text-align: right;\n",
       "    }\n",
       "</style>\n",
       "<table border=\"1\" class=\"dataframe\">\n",
       "  <thead>\n",
       "    <tr style=\"text-align: right;\">\n",
       "      <th></th>\n",
       "      <th>Time (sec.)</th>\n",
       "      <th>Glucose Level</th>\n",
       "    </tr>\n",
       "  </thead>\n",
       "  <tbody>\n",
       "    <tr>\n",
       "      <th>count</th>\n",
       "      <td>117.000000</td>\n",
       "      <td>117.000000</td>\n",
       "    </tr>\n",
       "    <tr>\n",
       "      <th>mean</th>\n",
       "      <td>12.515385</td>\n",
       "      <td>169.333333</td>\n",
       "    </tr>\n",
       "    <tr>\n",
       "      <th>std</th>\n",
       "      <td>5.137583</td>\n",
       "      <td>37.882304</td>\n",
       "    </tr>\n",
       "    <tr>\n",
       "      <th>min</th>\n",
       "      <td>0.300000</td>\n",
       "      <td>102.000000</td>\n",
       "    </tr>\n",
       "    <tr>\n",
       "      <th>25%</th>\n",
       "      <td>10.000000</td>\n",
       "      <td>144.000000</td>\n",
       "    </tr>\n",
       "    <tr>\n",
       "      <th>50%</th>\n",
       "      <td>13.000000</td>\n",
       "      <td>165.000000</td>\n",
       "    </tr>\n",
       "    <tr>\n",
       "      <th>75%</th>\n",
       "      <td>16.000000</td>\n",
       "      <td>189.000000</td>\n",
       "    </tr>\n",
       "    <tr>\n",
       "      <th>max</th>\n",
       "      <td>22.000000</td>\n",
       "      <td>260.000000</td>\n",
       "    </tr>\n",
       "  </tbody>\n",
       "</table>\n",
       "</div>"
      ],
      "text/plain": [
       "       Time (sec.)  Glucose Level\n",
       "count   117.000000     117.000000\n",
       "mean     12.515385     169.333333\n",
       "std       5.137583      37.882304\n",
       "min       0.300000     102.000000\n",
       "25%      10.000000     144.000000\n",
       "50%      13.000000     165.000000\n",
       "75%      16.000000     189.000000\n",
       "max      22.000000     260.000000"
      ]
     },
     "execution_count": 7,
     "metadata": {},
     "output_type": "execute_result"
    }
   ],
   "source": [
    "#getting the statistical measures of the data\n",
    "df.describe()"
   ]
  },
  {
   "cell_type": "code",
   "execution_count": 8,
   "id": "24741c97",
   "metadata": {},
   "outputs": [],
   "source": [
    "correlation = df.corr()"
   ]
  },
  {
   "cell_type": "code",
   "execution_count": 9,
   "id": "c76bdf01",
   "metadata": {},
   "outputs": [
    {
     "data": {
      "text/plain": [
       "<AxesSubplot:>"
      ]
     },
     "execution_count": 9,
     "metadata": {},
     "output_type": "execute_result"
    },
    {
     "data": {
      "image/png": "[encoded data removed]",
      "text/plain": [
       "<Figure size 576x576 with 2 Axes>"
      ]
     },
     "metadata": {
      "needs_background": "light"
     },
     "output_type": "display_data"
    }
   ],
   "source": [
    "# Constructing a heatmap to understand the correlation\n",
    "plt.figure(figsize=(8,8))\n",
    "sns.heatmap(correlation, cbar=True, square=True, fmt='.1f', annot=True, annot_kws={'size':8}, cmap='Blues')"
   ]
  },
  {
   "cell_type": "code",
   "execution_count": 11,
   "id": "171bdec7",
   "metadata": {},
   "outputs": [
    {
     "name": "stderr",
     "output_type": "stream",
     "text": [
      "/Users/himon9/opt/anaconda3/lib/python3.9/site-packages/seaborn/distributions.py:2619: FutureWarning: `distplot` is a deprecated function and will be removed in a future version. Please adapt your code to use either `displot` (a figure-level function with similar flexibility) or `histplot` (an axes-level function for histograms).\n",
      "  warnings.warn(msg, FutureWarning)\n"
     ]
    },
    {
     "data": {
      "text/plain": [
       "<AxesSubplot:xlabel='Glucose Level', ylabel='Density'>"
      ]
     },
     "execution_count": 11,
     "metadata": {},
     "output_type": "execute_result"
    },
    {
     "data": {
      "image/png": "[encoded data removed]",
      "text/plain": [
       "<Figure size 432x288 with 1 Axes>"
      ]
     },
     "metadata": {
      "needs_background": "light"
     },
     "output_type": "display_data"
    }
   ],
   "source": [
    "# check the distribution of the GLD Price\n",
    "sns.distplot(df['Glucose Level'],color='green')"
   ]
  },
  {
   "cell_type": "code",
   "execution_count": 13,
   "id": "bed39a29",
   "metadata": {},
   "outputs": [],
   "source": [
    "# Splitting the Features and Target\n",
    "X = df.drop(['Glucose Level'],axis=1)\n",
    "Y = df['Glucose Level']"
   ]
  },
  {
   "cell_type": "code",
   "execution_count": 14,
   "id": "10eff4a1",
   "metadata": {},
   "outputs": [
    {
     "name": "stdout",
     "output_type": "stream",
     "text": [
      "     Time (sec.)\n",
      "0           12.0\n",
      "1           13.0\n",
      "2           12.0\n",
      "3           11.0\n",
      "4           14.0\n",
      "..           ...\n",
      "112         18.8\n",
      "113         16.2\n",
      "114         15.0\n",
      "115         17.0\n",
      "116          0.5\n",
      "\n",
      "[117 rows x 1 columns]\n"
     ]
    }
   ],
   "source": [
    "print(X)"
   ]
  },
  {
   "cell_type": "code",
   "execution_count": 15,
   "id": "30473a24",
   "metadata": {},
   "outputs": [
    {
     "name": "stdout",
     "output_type": "stream",
     "text": [
      "0      170\n",
      "1      165\n",
      "2      168\n",
      "3      180\n",
      "4      160\n",
      "      ... \n",
      "112    120\n",
      "113    144\n",
      "114    148\n",
      "115    138\n",
      "116    260\n",
      "Name: Glucose Level, Length: 117, dtype: int64\n"
     ]
    }
   ],
   "source": [
    "print(Y)"
   ]
  },
  {
   "cell_type": "code",
   "execution_count": 16,
   "id": "fb8d5acb",
   "metadata": {},
   "outputs": [],
   "source": [
    "# Splitting into Training data and Test Data\n",
    "X_train, X_test, Y_train, Y_test = train_test_split(X,Y,test_size=0.2, random_state=2)"
   ]
  },
  {
   "cell_type": "code",
   "execution_count": 17,
   "id": "3a26387e",
   "metadata": {},
   "outputs": [],
   "source": [
    "# Model Training \n",
    "# Random Forest Regressor\n",
    "\n",
    "regressor = RandomForestRegressor(n_estimators=100)"
   ]
  },
  {
   "cell_type": "code",
   "execution_count": 18,
   "id": "1bae82e3",
   "metadata": {},
   "outputs": [
    {
     "data": {
      "text/plain": [
       "RandomForestRegressor()"
      ]
     },
     "execution_count": 18,
     "metadata": {},
     "output_type": "execute_result"
    }
   ],
   "source": [
    "# Training the Model\n",
    "regressor.fit(X_train,Y_train)"
   ]
  },
  {
   "cell_type": "code",
   "execution_count": 19,
   "id": "271ba467",
   "metadata": {},
   "outputs": [],
   "source": [
    "# Model Evaluation\n",
    "# Prediction on Test Data\n",
    "\n",
    "test_data_prediction = regressor.predict(X_test)"
   ]
  },
  {
   "cell_type": "code",
   "execution_count": 28,
   "id": "10bd4c04",
   "metadata": {},
   "outputs": [
    {
     "name": "stdout",
     "output_type": "stream",
     "text": [
      "\n",
      "Acutal Value :  139\n",
      "Predicted Value :  143.43424370074365\n",
      "Acutal Level : Normal Level\n",
      "Predicted Level: Normal Level\n",
      "\n",
      "Acutal Value :  120\n",
      "Predicted Value :  122.86028571428572\n",
      "Acutal Level : Normal Level\n",
      "Predicted Level: Normal Level\n",
      "\n",
      "Acutal Value :  180\n",
      "Predicted Value :  180.81883333333343\n",
      "Acutal Level : Medium Level\n",
      "Predicted Level: Medium Level\n",
      "\n",
      "Acutal Value :  245\n",
      "Predicted Value :  251.68438095238096\n",
      "Acutal Level : Severe Level\n",
      "Predicted Level: Severe Level\n",
      "\n",
      "Acutal Value :  168\n",
      "Predicted Value :  170.52130591630586\n",
      "Acutal Level : Medium Level\n",
      "Predicted Level: Medium Level\n",
      "\n",
      "Acutal Value :  235\n",
      "Predicted Value :  241.72349999999997\n",
      "Acutal Level : Severe Level\n",
      "Predicted Level: Severe Level\n",
      "\n",
      "Acutal Value :  170\n",
      "Predicted Value :  170.52130591630586\n",
      "Acutal Level : Medium Level\n",
      "Predicted Level: Medium Level\n",
      "\n",
      "Acutal Value :  176\n",
      "Predicted Value :  170.52130591630586\n",
      "Acutal Level : Medium Level\n",
      "Predicted Level: Medium Level\n",
      "\n",
      "Acutal Value :  140\n",
      "Predicted Value :  143.43424370074365\n",
      "Acutal Level : Normal Level\n",
      "Predicted Level: Normal Level\n",
      "\n",
      "Acutal Value :  159\n",
      "Predicted Value :  157.40463605838607\n",
      "Acutal Level : Normal Level\n",
      "Predicted Level: Normal Level\n",
      "\n",
      "Acutal Value :  180\n",
      "Predicted Value :  180.81883333333343\n",
      "Acutal Level : Medium Level\n",
      "Predicted Level: Medium Level\n",
      "\n",
      "Acutal Value :  146\n",
      "Predicted Value :  143.43424370074365\n",
      "Acutal Level : Normal Level\n",
      "Predicted Level: Normal Level\n",
      "\n",
      "Acutal Value :  102\n",
      "Predicted Value :  104.08325000000002\n",
      "Acutal Level : Normal Level\n",
      "Predicted Level: Normal Level\n",
      "\n",
      "Acutal Value :  138\n",
      "Predicted Value :  138.0\n",
      "Acutal Level : Normal Level\n",
      "Predicted Level: Normal Level\n",
      "\n",
      "Acutal Value :  165\n",
      "Predicted Value :  165.69787579087577\n",
      "Acutal Level : Medium Level\n",
      "Predicted Level: Medium Level\n",
      "\n",
      "Acutal Value :  160\n",
      "Predicted Value :  157.40463605838607\n",
      "Acutal Level : Medium Level\n",
      "Predicted Level: Normal Level\n",
      "\n",
      "Acutal Value :  256\n",
      "Predicted Value :  255.81488095238095\n",
      "Acutal Level : Severe Level\n",
      "Predicted Level: Severe Level\n",
      "\n",
      "Acutal Value :  163\n",
      "Predicted Value :  157.40463605838607\n",
      "Acutal Level : Medium Level\n",
      "Predicted Level: Normal Level\n",
      "\n",
      "Acutal Value :  170\n",
      "Predicted Value :  170.52130591630586\n",
      "Acutal Level : Medium Level\n",
      "Predicted Level: Medium Level\n",
      "\n",
      "Acutal Value :  108\n",
      "Predicted Value :  107.81897222222227\n",
      "Acutal Level : Normal Level\n",
      "Predicted Level: Normal Level\n",
      "\n",
      "Acutal Value :  185\n",
      "Predicted Value :  188.61286838161843\n",
      "Acutal Level : Medium Level\n",
      "Predicted Level: Medium Level\n",
      "\n",
      "Acutal Value :  134\n",
      "Predicted Value :  127.84\n",
      "Acutal Level : Normal Level\n",
      "Predicted Level: Normal Level\n",
      "\n",
      "Acutal Value :  150\n",
      "Predicted Value :  150.81867598414658\n",
      "Acutal Level : Normal Level\n",
      "Predicted Level: Normal Level\n",
      "\n",
      "Acutal Value :  165\n",
      "Predicted Value :  165.69787579087577\n",
      "Acutal Level : Medium Level\n",
      "Predicted Level: Medium Level\n"
     ]
    }
   ],
   "source": [
    "for y,p in zip(Y_test,test_data_prediction):\n",
    "    print(\"\\nAcutal Value : \",y)\n",
    "    print(\"Predicted Value : \",p)\n",
    "    \n",
    "    if 190 <= y:\n",
    "        print(\"Acutal Level : Severe Level\")\n",
    "    elif 160 <= y < 190: \n",
    "        print(\"Acutal Level : Medium Level\")\n",
    "    else:\n",
    "        print(\"Acutal Level : Normal Level\")\n",
    "        \n",
    "    if 190 <= p:\n",
    "        print(\"Predicted Level: Severe Level\")\n",
    "    elif 160 <= p < 190: \n",
    "        print(\"Predicted Level: Medium Level\")\n",
    "    else:\n",
    "        print(\"Predicted Level: Normal Level\")\n",
    "    \n",
    "    "
   ]
  },
  {
   "cell_type": "code",
   "execution_count": 24,
   "id": "5cfca661",
   "metadata": {},
   "outputs": [
    {
     "data": {
      "image/png": "[encoded data removed]",
      "text/plain": [
       "<Figure size 432x288 with 1 Axes>"
      ]
     },
     "metadata": {
      "needs_background": "light"
     },
     "output_type": "display_data"
    }
   ],
   "source": [
    "# Compare the Acutal Values and Predicted Values in a Plot\n",
    "\n",
    "Y_test = list(Y_test)\n",
    "plt.plot(Y_test, color='blue', label='Actual Value')\n",
    "plt.plot(test_data_prediction, color='green', label='Predicted Value')\n",
    "plt.title('Actual Glucose Level vs Predicted Glucose Level')\n",
    "plt.xlabel('Nubmer of values')\n",
    "plt.ylabel('Glucose Level')\n",
    "plt.legend()\n",
    "plt.show()"
   ]
  },
  {
   "cell_type": "code",
   "execution_count": 25,
   "id": "7ebb9185",
   "metadata": {},
   "outputs": [
    {
     "name": "stdout",
     "output_type": "stream",
     "text": [
      "R squared error :  0.99187915228358\n"
     ]
    }
   ],
   "source": [
    "# R squared error \n",
    "error_score = metrics.r2_score(Y_test, test_data_prediction)\n",
    "print(\"R squared error : \", error_score)"
   ]
  },
  {
   "cell_type": "code",
   "execution_count": null,
   "id": "396e8fdd",
   "metadata": {},
   "outputs": [],
   "source": []
  }
 ],
 "metadata": {
  "kernelspec": {
   "display_name": "Python 3 (ipykernel)",
   "language": "python",
   "name": "python3"
  },
  "language_info": {
   "codemirror_mode": {
    "name": "ipython",
    "version": 3
   },
   "file_extension": ".py",
   "mimetype": "text/x-python",
   "name": "python",
   "nbconvert_exporter": "python",
   "pygments_lexer": "ipython3",
   "version": "3.9.7"
  }
 },
 "nbformat": 4,
 "nbformat_minor": 5
}
